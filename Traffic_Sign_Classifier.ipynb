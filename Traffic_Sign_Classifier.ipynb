{
 "cells": [
  {
   "cell_type": "markdown",
   "metadata": {},
   "source": [
    "# Self-Driving Car Engineer Nanodegree\n",
    "\n",
    "## Deep Learning\n",
    "\n",
    "## Project: Build a Traffic Sign Recognition Classifier\n",
    "\n",
    "In this notebook, a template is provided for you to implement your functionality in stages, which is required to successfully complete this project. If additional code is required that cannot be included in the notebook, be sure that the Python code is successfully imported and included in your submission if necessary. \n",
    "\n",
    "> **Note**: Once you have completed all of the code implementations, you need to finalize your work by exporting the iPython Notebook as an HTML document. Before exporting the notebook to html, all of the code cells need to have been run so that reviewers can see the final implementation and output. You can then export the notebook by using the menu above and navigating to  \\n\",\n",
    "    \"**File -> Download as -> HTML (.html)**. Include the finished document along with this notebook as your submission. \n",
    "\n",
    "In addition to implementing code, there is a writeup to complete. The writeup should be completed in a separate file, which can be either a markdown file or a pdf document. There is a [write up template](https://github.com/udacity/CarND-Traffic-Sign-Classifier-Project/blob/master/writeup_template.md) that can be used to guide the writing process. Completing the code template and writeup template will cover all of the [rubric points](https://review.udacity.com/#!/rubrics/481/view) for this project.\n",
    "\n",
    "The [rubric](https://review.udacity.com/#!/rubrics/481/view) contains \"Stand Out Suggestions\" for enhancing the project beyond the minimum requirements. The stand out suggestions are optional. If you decide to pursue the \"stand out suggestions\", you can include the code in this Ipython notebook and also discuss the results in the writeup file.\n",
    "\n",
    "\n",
    ">**Note:** Code and Markdown cells can be executed using the **Shift + Enter** keyboard shortcut. In addition, Markdown cells can be edited by typically double-clicking the cell to enter edit mode."
   ]
  },
  {
   "cell_type": "markdown",
   "metadata": {},
   "source": [
    "---\n",
    "## Step 0: Load The Data"
   ]
  },
  {
   "cell_type": "code",
   "execution_count": 1,
   "metadata": {
    "collapsed": false
   },
   "outputs": [],
   "source": [
    "# Load pickled data\n",
    "import pickle\n",
    "\n",
    "# TODO: Fill this in based on where you saved the training and testing data\n",
    "\n",
    "training_file = 'train.p'\n",
    "validation_file='valid.p'\n",
    "testing_file = 'test.p'\n",
    "\n",
    "with open(training_file, mode='rb') as f:\n",
    "    train = pickle.load(f)\n",
    "with open(validation_file, mode='rb') as f:\n",
    "    valid = pickle.load(f)\n",
    "with open(testing_file, mode='rb') as f:\n",
    "    test = pickle.load(f)\n",
    "    \n",
    "X_train, y_train = train['features'], train['labels']\n",
    "X_valid, y_valid = valid['features'], valid['labels']\n",
    "X_test, y_test = test['features'], test['labels']\n"
   ]
  },
  {
   "cell_type": "code",
   "execution_count": 2,
   "metadata": {
    "collapsed": false
   },
   "outputs": [],
   "source": [
    "import numpy as np\n",
    "img_size = train['sizes']\n",
    "n_classes = np.unique(y_train)\n",
    "\n",
    "size_img = train['sizes']\n",
    "\n",
    "\n",
    "#plt.imshow(train['features'][0]"
   ]
  },
  {
   "cell_type": "markdown",
   "metadata": {},
   "source": [
    "---\n",
    "\n",
    "## Step 1: Dataset Summary & Exploration\n",
    "\n",
    "The pickled data is a dictionary with 4 key/value pairs:\n",
    "\n",
    "- `'features'` is a 4D array containing raw pixel data of the traffic sign images, (num examples, width, height, channels).\n",
    "- `'labels'` is a 1D array containing the label/class id of the traffic sign. The file `signnames.csv` contains id -> name mappings for each id.\n",
    "- `'sizes'` is a list containing tuples, (width, height) representing the the original width and height the image.\n",
    "- `'coords'` is a list containing tuples, (x1, y1, x2, y2) representing coordinates of a bounding box around the sign in the image. **THESE COORDINATES ASSUME THE ORIGINAL IMAGE. THE PICKLED DATA CONTAINS RESIZED VERSIONS (32 by 32) OF THESE IMAGES**\n",
    "\n",
    "Complete the basic data summary below. Use python, numpy and/or pandas methods to calculate the data summary rather than hard coding the results. For example, the [pandas shape method](http://pandas.pydata.org/pandas-docs/stable/generated/pandas.DataFrame.shape.html) might be useful for calculating some of the summary results. "
   ]
  },
  {
   "cell_type": "markdown",
   "metadata": {},
   "source": [
    "### Provide a Basic Summary of the Data Set Using Python, Numpy and/or Pandas"
   ]
  },
  {
   "cell_type": "code",
   "execution_count": 3,
   "metadata": {
    "collapsed": false
   },
   "outputs": [
    {
     "name": "stdout",
     "output_type": "stream",
     "text": [
      "Number of training examples = 34799\n",
      "Number of testing examples = 12630\n",
      "Image data shape = [26 25]\n",
      "Number of classes = 43\n"
     ]
    }
   ],
   "source": [
    "import numpy as np\n",
    "### Replace each question mark with the appropriate value. \n",
    "### Use python, pandas or numpy methods rather than hard coding the results\n",
    "\n",
    "# TODO: Number of training examples\n",
    "n_train = y_train.shape[0]\n",
    "\n",
    "# TODO: Number of testing examples.\n",
    "n_test = y_test.shape[0]\n",
    "\n",
    "# TODO: What's the shape of an traffic sign image?\n",
    "image_shape = train['sizes'][0]\n",
    "\n",
    "# TODO: How many unique classes/labels there are in the dataset.\n",
    "n_classes = np.unique(y_train).size\n",
    "\n",
    "print(\"Number of training examples =\", n_train)\n",
    "print(\"Number of testing examples =\", n_test)\n",
    "print(\"Image data shape =\", image_shape)\n",
    "print(\"Number of classes =\", n_classes)\n"
   ]
  },
  {
   "cell_type": "markdown",
   "metadata": {},
   "source": [
    "### Include an exploratory visualization of the dataset"
   ]
  },
  {
   "cell_type": "markdown",
   "metadata": {},
   "source": [
    "Visualize the German Traffic Signs Dataset using the pickled file(s). This is open ended, suggestions include: plotting traffic sign images, plotting the count of each sign, etc.\n",
    "\n",
    "The [Matplotlib](http://matplotlib.org/) [examples](http://matplotlib.org/examples/index.html) and [gallery](http://matplotlib.org/gallery.html) pages are a great resource for doing visualizations in Python.\n",
    "\n",
    "**NOTE:** It's recommended you start with something simple first. If you wish to do more, come back to it after you've completed the rest of the sections."
   ]
  },
  {
   "cell_type": "code",
   "execution_count": 4,
   "metadata": {
    "collapsed": false
   },
   "outputs": [],
   "source": [
    "### Data exploration visualization code goes here.\n",
    "### Feel free to use as many code cells as needed.\n",
    "import matplotlib.pyplot as plt\n",
    "import matplotlib.gridspec as gridspec\n",
    "import cv2\n",
    "# Visualizations will be shown in the notebook.\n",
    "%matplotlib inline\n",
    "\n",
    "def plot_random_3C(n_row,n_col,X,y):\n",
    "\n",
    "    plt.figure(figsize = (11,8))\n",
    "    gs1 = gridspec.GridSpec(n_row,n_row)\n",
    "    gs1.update(wspace=0.01, hspace=0.02) # set the spacing between axes. \n",
    "\n",
    "    for i in range(n_row*n_col):\n",
    "        # i = i + 1 # grid spec indexes from 0\n",
    "        ax1 = plt.subplot(gs1[i])\n",
    "        plt.axis('on')\n",
    "        ax1.set_xticklabels([])\n",
    "        ax1.set_yticklabels([])\n",
    "        ax1.set_aspect('equal')\n",
    "        ind_plot = np.random.randint(1,len(y))\n",
    "        plt.imshow(X[ind_plot])\n",
    "        plt.text(2,4,str(y[ind_plot]),\n",
    "             color='k',backgroundcolor='c')\n",
    "        plt.axis('off')\n",
    "    plt.show()\n",
    "    \n",
    "    \n",
    "    \n",
    "def plot_transformed_Images_3C(n_row,n_col,X):\n",
    "    plt.figure(figsize = (11,8))\n",
    "    gs1 = gridspec.GridSpec(n_row,n_row)\n",
    "    gs1.update(wspace=0.01, hspace=0.02) # set the spacing between axes. \n",
    "\n",
    "    for i in range(n_row*n_col):\n",
    "        # i = i + 1 # grid spec indexes from 0\n",
    "        ax1 = plt.subplot(gs1[i])\n",
    "        plt.axis('on')\n",
    "        ax1.set_xticklabels([])\n",
    "        ax1.set_yticklabels([])\n",
    "        ax1.set_aspect('equal')\n",
    "        #ind_plot = np.random.randint(1,len(y))\n",
    "        #print(i)\n",
    "        plt.imshow(X[i])\n",
    "        plt.axis('off')\n",
    "    plt.show()\n"
   ]
  },
  {
   "cell_type": "markdown",
   "metadata": {},
   "source": [
    "----\n",
    "\n",
    "## Step 2: Design and Test a Model Architecture\n",
    "\n",
    "Design and implement a deep learning model that learns to recognize traffic signs. Train and test your model on the [German Traffic Sign Dataset](http://benchmark.ini.rub.de/?section=gtsrb&subsection=dataset).\n",
    "\n",
    "There are various aspects to consider when thinking about this problem:\n",
    "\n",
    "- Neural network architecture\n",
    "- Play around preprocessing techniques (normalization, rgb to grayscale, etc)\n",
    "- Number of examples per label (some have more than others).\n",
    "- Generate fake data.\n",
    "\n",
    "Here is an example of a [published baseline model on this problem](http://yann.lecun.com/exdb/publis/pdf/sermanet-ijcnn-11.pdf). It's not required to be familiar with the approach used in the paper but, it's good practice to try to read papers like these.\n",
    "\n",
    "**NOTE:** The LeNet-5 implementation shown in the [classroom](https://classroom.udacity.com/nanodegrees/nd013/parts/fbf77062-5703-404e-b60c-95b78b2f3f9e/modules/6df7ae49-c61c-4bb2-a23e-6527e69209ec/lessons/601ae704-1035-4287-8b11-e2c2716217ad/concepts/d4aca031-508f-4e0b-b493-e7b706120f81) at the end of the CNN lesson is a solid starting point. You'll have to change the number of classes and possibly the preprocessing, but aside from that it's plug and play!"
   ]
  },
  {
   "cell_type": "markdown",
   "metadata": {},
   "source": [
    "### Pre-process the Data Set (normalization, grayscale, etc.)"
   ]
  },
  {
   "cell_type": "markdown",
   "metadata": {},
   "source": [
    "Use the code cell (or multiple code cells, if necessary) to implement the first step of your project."
   ]
  },
  {
   "cell_type": "code",
   "execution_count": 5,
   "metadata": {
    "collapsed": false
   },
   "outputs": [],
   "source": [
    "def pre_process_image(image):\n",
    "    processed_img = np.empty(shape=image.shape,dtype=np.float32)\n",
    "    processed_img = cv2.cvtColor(image,cv2.COLOR_RGB2YCR_CB)\n",
    "    processed_img[:,:,0] = cv2.equalizeHist(processed_img[:,:,0])\n",
    "    processed_img = cv2.cvtColor(processed_img,cv2.COLOR_YCR_CB2RGB)\n",
    "    processed_img = processed_img/255.\n",
    "    return processed_img\n",
    "    \n"
   ]
  },
  {
   "cell_type": "code",
   "execution_count": 6,
   "metadata": {
    "collapsed": false
   },
   "outputs": [],
   "source": [
    "def augment_brightness(img):\n",
    "    processed_img = np.empty(shape=img.shape,dtype=np.float32)\n",
    "    processed_img = cv2.cvtColor(img,cv2.COLOR_RGB2YCR_CB)\n",
    "    random_num = np.random.uniform(0.5,1)\n",
    "    processed_img[:,:,0] = img[:,:,0]*random_num\n",
    "    img = cv2.cvtColor(processed_img,cv2.COLOR_YCR_CB2RGB)\n",
    "    return img\n",
    "\n",
    "\n",
    "\n",
    "def augment_data(X,Y,augmentationFactor):\n",
    "\n",
    "    numOfImg,height,width,channels = X.shape\n",
    "    X_augmented = np.empty(shape=[numOfImg*augmentationFactor,height,width,channels],dtype=np.float32)\n",
    "    Y_augmented = np.empty(shape=[numOfImg*augmentationFactor],dtype=np.uint8)\n",
    "    for i in range(numOfImg):\n",
    "        image = pre_process_image(X[i])\n",
    "        label = Y[i]\n",
    "        X_augmented[i*augmentationFactor] = image\n",
    "        #print(\"copying original image to location :\",i*augmentationFactor)\n",
    "        Y_augmented[i*augmentationFactor] = Y[i]\n",
    "        for j in range(augmentationFactor-1):\n",
    "                transformed_img = np.float32(image.shape)\n",
    "                rot_ang =  np.random.randint(1,45)\n",
    "                rot_M = cv2.getRotationMatrix2D((width/2,height/2),rot_ang,1)\n",
    "                #rotate image\n",
    "                transformed_img = cv2.warpAffine(image,rot_M,(width,height))\n",
    "                \n",
    "                # augment brightness\n",
    "                transformed_img = augment_brightness(transformed_img.astype(np.float32))\n",
    "                \n",
    "                #translate image\n",
    "                x_trans =  np.random.randint(0,5)\n",
    "                y_trans =  np.random.randint(0,5)\n",
    "                trans_M = np.float32([[1,0,x_trans],[0,1,y_trans]])\n",
    "                transformed_img = cv2.warpAffine(transformed_img,trans_M,(width,height))\n",
    "                #print(\"copying image to location :\",i*augmentationFactor + j + 1)\n",
    "                X_augmented[i*augmentationFactor + j + 1] = transformed_img\n",
    "                Y_augmented[i*augmentationFactor + j + 1] = label\n",
    "                \n",
    "    \n",
    "    return X_augmented,Y_augmented\n",
    "                \n"
   ]
  },
  {
   "cell_type": "code",
   "execution_count": 7,
   "metadata": {
    "collapsed": false
   },
   "outputs": [],
   "source": [
    "\n",
    "augmented_image,augmented_label = augment_data(X_train,y_train,3)\n",
    "\n"
   ]
  },
  {
   "cell_type": "code",
   "execution_count": 8,
   "metadata": {
    "collapsed": false
   },
   "outputs": [],
   "source": [
    "def get_GrayScale_Image(img):\n",
    "    gray_img = cv2.cvtColor(img.astype(np.float32), cv2.COLOR_RGB2GRAY)\n",
    "    return gray_img\n",
    "\n",
    "def get_normalized_GrayScale_Image(img):\n",
    "    gray_img = cv2.cvtColor(img.astype(np.float32), cv2.COLOR_RGB2GRAY)\n",
    "    diff = np.float32(np.amax(gray_img) -np.amin(gray_img))\n",
    "    gray_img = gray_img/diff\n",
    "    return gray_img"
   ]
  },
  {
   "cell_type": "code",
   "execution_count": 9,
   "metadata": {
    "collapsed": false
   },
   "outputs": [],
   "source": [
    "def preprocessBatch(imageBatch,normalize = 0):\n",
    "    #print(\"Normalize= \",normalize)\n",
    "    numOfImg,height,width,channels = imageBatch.shape\n",
    "    grayArray = np.empty(imageBatch[:,:,:,0].shape)\n",
    "       \n",
    "    for i in range(numOfImg):\n",
    "        image = imageBatch[i]\n",
    "        img_height,img_width,channels = image.shape\n",
    "        grayImage = np.empty([img_height,img_width,1],dtype=np.float32)\n",
    "        if normalize == 0 :\n",
    "            grayImage = get_GrayScale_Image(image)\n",
    "        else:\n",
    "            grayImage = get_normalized_GrayScale_Image(image)    \n",
    "        \n",
    "        grayArray[i] = grayImage    \n",
    "    \n",
    "    return grayArray\n"
   ]
  },
  {
   "cell_type": "code",
   "execution_count": 10,
   "metadata": {
    "collapsed": false
   },
   "outputs": [
    {
     "name": "stdout",
     "output_type": "stream",
     "text": [
      "(104397, 32, 32, 3)\n"
     ]
    }
   ],
   "source": [
    "print(augmented_image.shape)\n",
    "numOfTrgImg,height,width,channels = augmented_image.shape\n",
    "\n",
    "gray_X_train = np.empty([numOfTrgImg,height,width,1],dtype=np.float32)\n",
    "gray_X_train[:,:,:,0] = preprocessBatch(augmented_image)\n",
    "\n",
    "\n",
    "# Preprocess Validity images\n",
    "preprocessed_X_valid = np.empty(shape=X_valid.shape,dtype=np.float32)\n",
    "\n",
    "numOfValidImg,height,width,channels = X_valid.shape\n",
    "gray_X_valid = np.empty([numOfValidImg,height,width,1],dtype=np.float32)\n",
    "\n",
    "for i in range(numOfValidImg):\n",
    "       preprocessed_X_valid[i,:,:,:] =   pre_process_image(X_valid[i])\n",
    "        \n",
    "gray_X_valid[:,:,:,0] = preprocessBatch(preprocessed_X_valid)\n"
   ]
  },
  {
   "cell_type": "code",
   "execution_count": null,
   "metadata": {
    "collapsed": false
   },
   "outputs": [],
   "source": [
    "plt.imshow(gray_X_valid[2,:,:,0],cmap=\"gray\")\n",
    "print(gray_X_valid[2])\n",
    "\n",
    "#print(X_valid[2])\n"
   ]
  },
  {
   "cell_type": "code",
   "execution_count": 11,
   "metadata": {
    "collapsed": false
   },
   "outputs": [
    {
     "data": {
      "image/png": "[encoded data removed]",
      "text/plain": [
       "<matplotlib.figure.Figure at 0x12ac14320>"
      ]
     },
     "metadata": {},
     "output_type": "display_data"
    }
   ],
   "source": [
    "plot_random_3C(4,4,augmented_image,augmented_label)\n"
   ]
  },
  {
   "cell_type": "code",
   "execution_count": null,
   "metadata": {
    "collapsed": false
   },
   "outputs": [],
   "source": [
    "#plot_random_3C(4,4,augmented_testimage,augmented_testlabel)\n",
    "#print(augmented_testimage.shape)\n",
    "#print(augmented_testimage.dtype)\n",
    "augmented_testimage,augmented_testlabel = augment_data(X_train[0:2],y_train[0:2],0)"
   ]
  },
  {
   "cell_type": "code",
   "execution_count": 12,
   "metadata": {
    "collapsed": false
   },
   "outputs": [
    {
     "data": {
      "text/plain": [
       "<matplotlib.image.AxesImage at 0x194448cf8>"
      ]
     },
     "execution_count": 12,
     "metadata": {},
     "output_type": "execute_result"
    },
    {
     "data": {
      "image/png": "[encoded data removed]",
      "text/plain": [
       "<matplotlib.figure.Figure at 0x1941fb7b8>"
      ]
     },
     "metadata": {},
     "output_type": "display_data"
    }
   ],
   "source": [
    "\n",
    "plt.imshow(gray_X_train[2,:,:,0],cmap=\"gray\")"
   ]
  },
  {
   "cell_type": "markdown",
   "metadata": {},
   "source": [
    "### Model Architecture"
   ]
  },
  {
   "cell_type": "code",
   "execution_count": 13,
   "metadata": {
    "collapsed": false
   },
   "outputs": [
    {
     "name": "stdout",
     "output_type": "stream",
     "text": [
      "(32, 32, 3) float64\n"
     ]
    }
   ],
   "source": [
    "#plt.imshow(augmented_image[1,:,:,0])\n",
    "qw = pre_process_image(X_valid[0])\n",
    "print(qw.shape,qw.dtype)"
   ]
  },
  {
   "cell_type": "code",
   "execution_count": null,
   "metadata": {
    "collapsed": false
   },
   "outputs": [],
   "source": [
    "print(augmented_image[0])\n",
    "print(augmented_image[0].shape,augmented_image[0].dtype)"
   ]
  },
  {
   "cell_type": "code",
   "execution_count": 14,
   "metadata": {
    "collapsed": true
   },
   "outputs": [],
   "source": [
    "import tensorflow as tf\n",
    "from tensorflow.contrib.layers import flatten"
   ]
  },
  {
   "cell_type": "code",
   "execution_count": 15,
   "metadata": {
    "collapsed": false
   },
   "outputs": [],
   "source": [
    "def conv_layer(input,num_of_input_channel,filter_shape,output_depth):\n",
    "    mu = 0\n",
    "    sigma = 0.1\n",
    "    filter_shape = [filter_shape,filter_shape,num_of_input_channel,output_depth]\n",
    "    conv_W = tf.Variable(tf.truncated_normal(shape=filter_shape, mean = mu, stddev = sigma))\n",
    "    conv_b = tf.Variable(tf.zeros(output_depth))\n",
    "    cnv_layer   = tf.nn.conv2d(input=input, filter=conv_W, strides=[1, 1, 1, 1], padding='VALID') + conv_b\n",
    "    \n",
    "    # RELU for Activation.\n",
    "    cnv_layer = tf.nn.relu(cnv_layer)\n",
    "    \n",
    "    #Pooling\n",
    "    cnv_layer = tf.nn.max_pool(cnv_layer, ksize=[1, 2, 2, 1], strides=[1, 2, 2, 1], padding='VALID')\n",
    "    \n",
    "    return cnv_layer\n",
    "    \n",
    "  \n",
    "\n",
    "\n",
    "    "
   ]
  },
  {
   "cell_type": "code",
   "execution_count": 16,
   "metadata": {
    "collapsed": true
   },
   "outputs": [],
   "source": [
    "def full_connection_layer(input,num_of_input,num_of_output):\n",
    "    mu = 0\n",
    "    sigma = 0.1\n",
    "    shape = [num_of_input,num_of_output]\n",
    "    fc_W = tf.Variable(tf.truncated_normal(shape=shape, mean = mu, stddev = sigma))\n",
    "    fc_b = tf.Variable(tf.zeros(num_of_output))\n",
    "    fc   = tf.matmul(input, fc_W) + fc_b\n",
    "    # RELU for Activation.\n",
    "    fc = tf.nn.relu(fc)\n",
    "    \n",
    "    return fc\n",
    "    "
   ]
  },
  {
   "cell_type": "code",
   "execution_count": 17,
   "metadata": {
    "collapsed": true
   },
   "outputs": [],
   "source": [
    "def LeNet(x):\n",
    "    # Layer 1. Convolutional. Input = 32x32x1. Output = 14x14x6\n",
    "    cnv_layer_1 = conv_layer(x,1,5,6)\n",
    "    # Layer 2 Convolutional. Input = 14x14x6. Output = 5x5x16\n",
    "    cnv_layer_2 = conv_layer(cnv_layer_1,6,5,16)\n",
    "    # Layer 3: Fully Connected. Input = 400. Output = 120.\n",
    "    fc_1 = flatten(cnv_layer_2)\n",
    "    fc_1 = full_connection_layer(fc_1,400,120)\n",
    "    # Layer 4: Fully Connected. Input = 120. Output = 84.\n",
    "    fc_2 = full_connection_layer(fc_1,120,84)\n",
    "    # Layer 5: Fully Connected. Input = 84. Output = 43.\n",
    "    fc_3 = full_connection_layer(fc_2,84,43)\n",
    "    return fc_3"
   ]
  },
  {
   "cell_type": "code",
   "execution_count": 18,
   "metadata": {
    "collapsed": false
   },
   "outputs": [
    {
     "data": {
      "text/plain": [
       "<tf.Tensor 'Relu_4:0' shape=(?, 43) dtype=float32>"
      ]
     },
     "execution_count": 18,
     "metadata": {},
     "output_type": "execute_result"
    }
   ],
   "source": [
    "x = tf.placeholder(tf.float32, (None, 32, 32, 1))\n",
    "y = tf.placeholder(tf.int32, (None))\n",
    "\n",
    "LeNet(x)"
   ]
  },
  {
   "cell_type": "markdown",
   "metadata": {},
   "source": [
    "### Train, Validate and Test the Model"
   ]
  },
  {
   "cell_type": "markdown",
   "metadata": {},
   "source": [
    "A validation set can be used to assess how well the model is performing. A low accuracy on the training and validation\n",
    "sets imply underfitting. A high accuracy on the test set but low accuracy on the validation set implies overfitting."
   ]
  },
  {
   "cell_type": "code",
   "execution_count": 19,
   "metadata": {
    "collapsed": false
   },
   "outputs": [],
   "source": [
    "## Training Pipeline\n",
    "\n",
    "x = tf.placeholder(tf.float32, (None, 32, 32, 1))\n",
    "y = tf.placeholder(tf.int32, (None))\n",
    "one_hot_y = tf.one_hot(y, n_classes)\n",
    "\n",
    "rate = 0.001\n",
    "logits = LeNet(x)\n",
    "\n",
    "cross_entropy = tf.nn.softmax_cross_entropy_with_logits(logits, one_hot_y)\n",
    "loss_operation = tf.reduce_mean(cross_entropy)\n",
    "optimizer = tf.train.AdamOptimizer(learning_rate = rate)\n",
    "training_operation = optimizer.minimize(loss_operation)\n"
   ]
  },
  {
   "cell_type": "code",
   "execution_count": 20,
   "metadata": {
    "collapsed": false
   },
   "outputs": [],
   "source": [
    "## Model Evaluation\n",
    "correct_prediction = tf.equal(tf.argmax(logits, 1), tf.argmax(one_hot_y, 1))\n",
    "accuracy_operation = tf.reduce_mean(tf.cast(correct_prediction, tf.float32))\n",
    "\n",
    "def evaluate(X_data, y_data):\n",
    "    num_examples = len(X_data)\n",
    "    total_accuracy = 0\n",
    "    sess = tf.get_default_session()\n",
    "    for offset in range(0, num_examples, BATCH_SIZE):\n",
    "        batch_x, batch_y = X_data[offset:offset+BATCH_SIZE], y_data[offset:offset+BATCH_SIZE]\n",
    "        accuracy = sess.run(accuracy_operation, feed_dict={x: batch_x, y: batch_y})\n",
    "        total_accuracy += (accuracy * len(batch_x))\n",
    "    return total_accuracy / num_examples\n"
   ]
  },
  {
   "cell_type": "code",
   "execution_count": 21,
   "metadata": {
    "collapsed": false
   },
   "outputs": [
    {
     "name": "stdout",
     "output_type": "stream",
     "text": [
      "Training...\n",
      "EPOCH 1 ...\n",
      "Validation Accuracy = 0.495\n",
      "EPOCH 2 ...\n",
      "Validation Accuracy = 0.562\n",
      "EPOCH 3 ...\n",
      "Validation Accuracy = 0.574\n",
      "EPOCH 4 ...\n",
      "Validation Accuracy = 0.589\n",
      "EPOCH 5 ...\n",
      "Validation Accuracy = 0.601\n",
      "EPOCH 6 ...\n",
      "Validation Accuracy = 0.609\n",
      "EPOCH 7 ...\n",
      "Validation Accuracy = 0.609\n",
      "EPOCH 8 ...\n",
      "Validation Accuracy = 0.604\n",
      "EPOCH 9 ...\n",
      "Validation Accuracy = 0.601\n",
      "EPOCH 10 ...\n",
      "Validation Accuracy = 0.611\n",
      "EPOCH 11 ...\n",
      "Validation Accuracy = 0.613\n",
      "EPOCH 12 ...\n",
      "Validation Accuracy = 0.606\n",
      "EPOCH 13 ...\n",
      "Validation Accuracy = 0.614\n",
      "EPOCH 14 ...\n",
      "Validation Accuracy = 0.614\n",
      "EPOCH 15 ...\n",
      "Validation Accuracy = 0.614\n",
      "EPOCH 16 ...\n",
      "Validation Accuracy = 0.608\n",
      "EPOCH 17 ...\n",
      "Validation Accuracy = 0.611\n",
      "EPOCH 18 ...\n",
      "Validation Accuracy = 0.613\n",
      "EPOCH 19 ...\n",
      "Validation Accuracy = 0.610\n",
      "EPOCH 20 ...\n",
      "Validation Accuracy = 0.603\n",
      "EPOCH 21 ...\n",
      "Validation Accuracy = 0.612\n",
      "EPOCH 22 ...\n",
      "Validation Accuracy = 0.613\n",
      "EPOCH 23 ...\n",
      "Validation Accuracy = 0.624\n",
      "EPOCH 24 ...\n",
      "Validation Accuracy = 0.625\n",
      "EPOCH 25 ...\n",
      "Validation Accuracy = 0.625\n",
      "EPOCH 26 ...\n",
      "Validation Accuracy = 0.623\n",
      "EPOCH 27 ...\n",
      "Validation Accuracy = 0.624\n",
      "EPOCH 28 ...\n",
      "Validation Accuracy = 0.625\n",
      "EPOCH 29 ...\n",
      "Validation Accuracy = 0.618\n",
      "EPOCH 30 ...\n",
      "Validation Accuracy = 0.622\n",
      "EPOCH 31 ...\n",
      "Validation Accuracy = 0.625\n",
      "EPOCH 32 ...\n",
      "Validation Accuracy = 0.627\n",
      "EPOCH 33 ...\n",
      "Validation Accuracy = 0.622\n",
      "EPOCH 34 ...\n",
      "Validation Accuracy = 0.620\n",
      "EPOCH 35 ...\n",
      "Validation Accuracy = 0.622\n",
      "EPOCH 36 ...\n",
      "Validation Accuracy = 0.630\n",
      "EPOCH 37 ...\n",
      "Validation Accuracy = 0.627\n",
      "EPOCH 38 ...\n",
      "Validation Accuracy = 0.632\n",
      "EPOCH 39 ...\n",
      "Validation Accuracy = 0.624\n",
      "EPOCH 40 ...\n",
      "Validation Accuracy = 0.625\n",
      "EPOCH 41 ...\n",
      "Validation Accuracy = 0.624\n",
      "EPOCH 42 ...\n",
      "Validation Accuracy = 0.628\n",
      "EPOCH 43 ...\n",
      "Validation Accuracy = 0.632\n",
      "EPOCH 44 ...\n",
      "Validation Accuracy = 0.618\n",
      "EPOCH 45 ...\n",
      "Validation Accuracy = 0.629\n",
      "EPOCH 46 ...\n",
      "Validation Accuracy = 0.627\n",
      "EPOCH 47 ...\n",
      "Validation Accuracy = 0.632\n",
      "EPOCH 48 ...\n",
      "Validation Accuracy = 0.618\n",
      "EPOCH 49 ...\n",
      "Validation Accuracy = 0.634\n",
      "EPOCH 50 ...\n",
      "Validation Accuracy = 0.629\n",
      "EPOCH 51 ...\n",
      "Validation Accuracy = 0.634\n",
      "EPOCH 52 ...\n",
      "Validation Accuracy = 0.631\n",
      "EPOCH 53 ...\n",
      "Validation Accuracy = 0.633\n",
      "EPOCH 54 ...\n",
      "Validation Accuracy = 0.629\n",
      "EPOCH 55 ...\n",
      "Validation Accuracy = 0.628\n",
      "EPOCH 56 ...\n",
      "Validation Accuracy = 0.629\n",
      "EPOCH 57 ...\n",
      "Validation Accuracy = 0.630\n",
      "EPOCH 58 ...\n",
      "Validation Accuracy = 0.632\n",
      "EPOCH 59 ...\n",
      "Validation Accuracy = 0.629\n",
      "EPOCH 60 ...\n",
      "Validation Accuracy = 0.630\n",
      "EPOCH 61 ...\n",
      "Validation Accuracy = 0.629\n",
      "EPOCH 62 ...\n",
      "Validation Accuracy = 0.628\n",
      "EPOCH 63 ...\n",
      "Validation Accuracy = 0.627\n",
      "EPOCH 64 ...\n",
      "Validation Accuracy = 0.629\n",
      "EPOCH 65 ...\n",
      "Validation Accuracy = 0.627\n",
      "EPOCH 66 ...\n",
      "Validation Accuracy = 0.630\n",
      "EPOCH 67 ...\n",
      "Validation Accuracy = 0.627\n",
      "EPOCH 68 ...\n",
      "Validation Accuracy = 0.629\n",
      "EPOCH 69 ...\n",
      "Validation Accuracy = 0.629\n",
      "EPOCH 70 ...\n",
      "Validation Accuracy = 0.631\n",
      "EPOCH 71 ...\n",
      "Validation Accuracy = 0.632\n",
      "EPOCH 72 ...\n",
      "Validation Accuracy = 0.630\n",
      "EPOCH 73 ...\n",
      "Validation Accuracy = 0.628\n",
      "EPOCH 74 ...\n",
      "Validation Accuracy = 0.634\n",
      "EPOCH 75 ...\n",
      "Validation Accuracy = 0.627\n",
      "EPOCH 76 ...\n",
      "Validation Accuracy = 0.629\n",
      "EPOCH 77 ...\n",
      "Validation Accuracy = 0.631\n",
      "EPOCH 78 ...\n",
      "Validation Accuracy = 0.627\n",
      "EPOCH 79 ...\n",
      "Validation Accuracy = 0.628\n",
      "EPOCH 80 ...\n",
      "Validation Accuracy = 0.627\n",
      "EPOCH 81 ...\n",
      "Validation Accuracy = 0.628\n",
      "EPOCH 82 ...\n",
      "Validation Accuracy = 0.634\n",
      "EPOCH 83 ...\n",
      "Validation Accuracy = 0.627\n",
      "EPOCH 84 ...\n",
      "Validation Accuracy = 0.631\n",
      "EPOCH 85 ...\n",
      "Validation Accuracy = 0.630\n",
      "EPOCH 86 ...\n",
      "Validation Accuracy = 0.630\n",
      "EPOCH 87 ...\n",
      "Validation Accuracy = 0.622\n",
      "EPOCH 88 ...\n",
      "Validation Accuracy = 0.631\n",
      "EPOCH 89 ...\n",
      "Validation Accuracy = 0.633\n",
      "EPOCH 90 ...\n",
      "Validation Accuracy = 0.631\n",
      "EPOCH 91 ...\n",
      "Validation Accuracy = 0.632\n",
      "EPOCH 92 ...\n",
      "Validation Accuracy = 0.631\n",
      "EPOCH 93 ...\n",
      "Validation Accuracy = 0.629\n",
      "EPOCH 94 ...\n",
      "Validation Accuracy = 0.626\n",
      "EPOCH 95 ...\n",
      "Validation Accuracy = 0.626\n",
      "EPOCH 96 ...\n",
      "Validation Accuracy = 0.624\n",
      "EPOCH 97 ...\n",
      "Validation Accuracy = 0.628\n",
      "EPOCH 98 ...\n",
      "Validation Accuracy = 0.630\n",
      "EPOCH 99 ...\n",
      "Validation Accuracy = 0.624\n",
      "EPOCH 100 ...\n",
      "Validation Accuracy = 0.626\n",
      "EPOCH 101 ...\n",
      "Validation Accuracy = 0.627\n",
      "EPOCH 102 ...\n",
      "Validation Accuracy = 0.624\n",
      "EPOCH 103 ...\n",
      "Validation Accuracy = 0.623\n",
      "EPOCH 104 ...\n",
      "Validation Accuracy = 0.633\n",
      "EPOCH 105 ...\n",
      "Validation Accuracy = 0.631\n",
      "EPOCH 106 ...\n",
      "Validation Accuracy = 0.627\n",
      "EPOCH 107 ...\n",
      "Validation Accuracy = 0.632\n",
      "EPOCH 108 ...\n",
      "Validation Accuracy = 0.623\n",
      "EPOCH 109 ...\n",
      "Validation Accuracy = 0.632\n"
     ]
    },
    {
     "ename": "KeyboardInterrupt",
     "evalue": "",
     "output_type": "error",
     "traceback": [
      "\u001b[0;31m---------------------------------------------------------------------------\u001b[0m",
      "\u001b[0;31mKeyboardInterrupt\u001b[0m                         Traceback (most recent call last)",
      "\u001b[0;32m<ipython-input-21-55ed9b9bde8b>\u001b[0m in \u001b[0;36m<module>\u001b[0;34m()\u001b[0m\n\u001b[1;32m     16\u001b[0m             \u001b[0mend\u001b[0m \u001b[0;34m=\u001b[0m \u001b[0moffset\u001b[0m \u001b[0;34m+\u001b[0m \u001b[0mBATCH_SIZE\u001b[0m\u001b[0;34m\u001b[0m\u001b[0m\n\u001b[1;32m     17\u001b[0m             \u001b[0mbatch_x\u001b[0m\u001b[0;34m,\u001b[0m \u001b[0mbatch_y\u001b[0m \u001b[0;34m=\u001b[0m \u001b[0mshuffled_X_train\u001b[0m\u001b[0;34m[\u001b[0m\u001b[0moffset\u001b[0m\u001b[0;34m:\u001b[0m\u001b[0mend\u001b[0m\u001b[0;34m]\u001b[0m\u001b[0;34m,\u001b[0m \u001b[0mshuffled_y_train\u001b[0m\u001b[0;34m[\u001b[0m\u001b[0moffset\u001b[0m\u001b[0;34m:\u001b[0m\u001b[0mend\u001b[0m\u001b[0;34m]\u001b[0m\u001b[0;34m\u001b[0m\u001b[0m\n\u001b[0;32m---> 18\u001b[0;31m             \u001b[0msess\u001b[0m\u001b[0;34m.\u001b[0m\u001b[0mrun\u001b[0m\u001b[0;34m(\u001b[0m\u001b[0mtraining_operation\u001b[0m\u001b[0;34m,\u001b[0m \u001b[0mfeed_dict\u001b[0m\u001b[0;34m=\u001b[0m\u001b[0;34m{\u001b[0m\u001b[0mx\u001b[0m\u001b[0;34m:\u001b[0m \u001b[0mbatch_x\u001b[0m\u001b[0;34m,\u001b[0m \u001b[0my\u001b[0m\u001b[0;34m:\u001b[0m \u001b[0mbatch_y\u001b[0m\u001b[0;34m}\u001b[0m\u001b[0;34m)\u001b[0m\u001b[0;34m\u001b[0m\u001b[0m\n\u001b[0m\u001b[1;32m     19\u001b[0m \u001b[0;34m\u001b[0m\u001b[0m\n\u001b[1;32m     20\u001b[0m         \u001b[0mvalidation_accuracy\u001b[0m \u001b[0;34m=\u001b[0m \u001b[0mevaluate\u001b[0m\u001b[0;34m(\u001b[0m\u001b[0mgray_X_valid\u001b[0m\u001b[0;34m,\u001b[0m \u001b[0my_valid\u001b[0m\u001b[0;34m)\u001b[0m\u001b[0;34m\u001b[0m\u001b[0m\n",
      "\u001b[0;32m/Users/arunt/miniconda3/envs/carnd-term1/lib/python3.5/site-packages/tensorflow/python/client/session.py\u001b[0m in \u001b[0;36mrun\u001b[0;34m(self, fetches, feed_dict, options, run_metadata)\u001b[0m\n\u001b[1;32m    764\u001b[0m     \u001b[0;32mtry\u001b[0m\u001b[0;34m:\u001b[0m\u001b[0;34m\u001b[0m\u001b[0m\n\u001b[1;32m    765\u001b[0m       result = self._run(None, fetches, feed_dict, options_ptr,\n\u001b[0;32m--> 766\u001b[0;31m                          run_metadata_ptr)\n\u001b[0m\u001b[1;32m    767\u001b[0m       \u001b[0;32mif\u001b[0m \u001b[0mrun_metadata\u001b[0m\u001b[0;34m:\u001b[0m\u001b[0;34m\u001b[0m\u001b[0m\n\u001b[1;32m    768\u001b[0m         \u001b[0mproto_data\u001b[0m \u001b[0;34m=\u001b[0m \u001b[0mtf_session\u001b[0m\u001b[0;34m.\u001b[0m\u001b[0mTF_GetBuffer\u001b[0m\u001b[0;34m(\u001b[0m\u001b[0mrun_metadata_ptr\u001b[0m\u001b[0;34m)\u001b[0m\u001b[0;34m\u001b[0m\u001b[0m\n",
      "\u001b[0;32m/Users/arunt/miniconda3/envs/carnd-term1/lib/python3.5/site-packages/tensorflow/python/client/session.py\u001b[0m in \u001b[0;36m_run\u001b[0;34m(self, handle, fetches, feed_dict, options, run_metadata)\u001b[0m\n\u001b[1;32m    962\u001b[0m     \u001b[0;32mif\u001b[0m \u001b[0mfinal_fetches\u001b[0m \u001b[0;32mor\u001b[0m \u001b[0mfinal_targets\u001b[0m\u001b[0;34m:\u001b[0m\u001b[0;34m\u001b[0m\u001b[0m\n\u001b[1;32m    963\u001b[0m       results = self._do_run(handle, final_targets, final_fetches,\n\u001b[0;32m--> 964\u001b[0;31m                              feed_dict_string, options, run_metadata)\n\u001b[0m\u001b[1;32m    965\u001b[0m     \u001b[0;32melse\u001b[0m\u001b[0;34m:\u001b[0m\u001b[0;34m\u001b[0m\u001b[0m\n\u001b[1;32m    966\u001b[0m       \u001b[0mresults\u001b[0m \u001b[0;34m=\u001b[0m \u001b[0;34m[\u001b[0m\u001b[0;34m]\u001b[0m\u001b[0;34m\u001b[0m\u001b[0m\n",
      "\u001b[0;32m/Users/arunt/miniconda3/envs/carnd-term1/lib/python3.5/site-packages/tensorflow/python/client/session.py\u001b[0m in \u001b[0;36m_do_run\u001b[0;34m(self, handle, target_list, fetch_list, feed_dict, options, run_metadata)\u001b[0m\n\u001b[1;32m   1012\u001b[0m     \u001b[0;32mif\u001b[0m \u001b[0mhandle\u001b[0m \u001b[0;32mis\u001b[0m \u001b[0;32mNone\u001b[0m\u001b[0;34m:\u001b[0m\u001b[0;34m\u001b[0m\u001b[0m\n\u001b[1;32m   1013\u001b[0m       return self._do_call(_run_fn, self._session, feed_dict, fetch_list,\n\u001b[0;32m-> 1014\u001b[0;31m                            target_list, options, run_metadata)\n\u001b[0m\u001b[1;32m   1015\u001b[0m     \u001b[0;32melse\u001b[0m\u001b[0;34m:\u001b[0m\u001b[0;34m\u001b[0m\u001b[0m\n\u001b[1;32m   1016\u001b[0m       return self._do_call(_prun_fn, self._session, handle, feed_dict,\n",
      "\u001b[0;32m/Users/arunt/miniconda3/envs/carnd-term1/lib/python3.5/site-packages/tensorflow/python/client/session.py\u001b[0m in \u001b[0;36m_do_call\u001b[0;34m(self, fn, *args)\u001b[0m\n\u001b[1;32m   1019\u001b[0m   \u001b[0;32mdef\u001b[0m \u001b[0m_do_call\u001b[0m\u001b[0;34m(\u001b[0m\u001b[0mself\u001b[0m\u001b[0;34m,\u001b[0m \u001b[0mfn\u001b[0m\u001b[0;34m,\u001b[0m \u001b[0;34m*\u001b[0m\u001b[0margs\u001b[0m\u001b[0;34m)\u001b[0m\u001b[0;34m:\u001b[0m\u001b[0;34m\u001b[0m\u001b[0m\n\u001b[1;32m   1020\u001b[0m     \u001b[0;32mtry\u001b[0m\u001b[0;34m:\u001b[0m\u001b[0;34m\u001b[0m\u001b[0m\n\u001b[0;32m-> 1021\u001b[0;31m       \u001b[0;32mreturn\u001b[0m \u001b[0mfn\u001b[0m\u001b[0;34m(\u001b[0m\u001b[0;34m*\u001b[0m\u001b[0margs\u001b[0m\u001b[0;34m)\u001b[0m\u001b[0;34m\u001b[0m\u001b[0m\n\u001b[0m\u001b[1;32m   1022\u001b[0m     \u001b[0;32mexcept\u001b[0m \u001b[0merrors\u001b[0m\u001b[0;34m.\u001b[0m\u001b[0mOpError\u001b[0m \u001b[0;32mas\u001b[0m \u001b[0me\u001b[0m\u001b[0;34m:\u001b[0m\u001b[0;34m\u001b[0m\u001b[0m\n\u001b[1;32m   1023\u001b[0m       \u001b[0mmessage\u001b[0m \u001b[0;34m=\u001b[0m \u001b[0mcompat\u001b[0m\u001b[0;34m.\u001b[0m\u001b[0mas_text\u001b[0m\u001b[0;34m(\u001b[0m\u001b[0me\u001b[0m\u001b[0;34m.\u001b[0m\u001b[0mmessage\u001b[0m\u001b[0;34m)\u001b[0m\u001b[0;34m\u001b[0m\u001b[0m\n",
      "\u001b[0;32m/Users/arunt/miniconda3/envs/carnd-term1/lib/python3.5/site-packages/tensorflow/python/client/session.py\u001b[0m in \u001b[0;36m_run_fn\u001b[0;34m(session, feed_dict, fetch_list, target_list, options, run_metadata)\u001b[0m\n\u001b[1;32m   1001\u001b[0m         return tf_session.TF_Run(session, options,\n\u001b[1;32m   1002\u001b[0m                                  \u001b[0mfeed_dict\u001b[0m\u001b[0;34m,\u001b[0m \u001b[0mfetch_list\u001b[0m\u001b[0;34m,\u001b[0m \u001b[0mtarget_list\u001b[0m\u001b[0;34m,\u001b[0m\u001b[0;34m\u001b[0m\u001b[0m\n\u001b[0;32m-> 1003\u001b[0;31m                                  status, run_metadata)\n\u001b[0m\u001b[1;32m   1004\u001b[0m \u001b[0;34m\u001b[0m\u001b[0m\n\u001b[1;32m   1005\u001b[0m     \u001b[0;32mdef\u001b[0m \u001b[0m_prun_fn\u001b[0m\u001b[0;34m(\u001b[0m\u001b[0msession\u001b[0m\u001b[0;34m,\u001b[0m \u001b[0mhandle\u001b[0m\u001b[0;34m,\u001b[0m \u001b[0mfeed_dict\u001b[0m\u001b[0;34m,\u001b[0m \u001b[0mfetch_list\u001b[0m\u001b[0;34m)\u001b[0m\u001b[0;34m:\u001b[0m\u001b[0;34m\u001b[0m\u001b[0m\n",
      "\u001b[0;31mKeyboardInterrupt\u001b[0m: "
     ]
    }
   ],
   "source": [
    "### Train your model here.\n",
    "\n",
    "from sklearn.utils import shuffle\n",
    "EPOCHS = 10000\n",
    "BATCH_SIZE = 256\n",
    "\n",
    "with tf.Session() as sess:\n",
    "    sess.run(tf.global_variables_initializer())\n",
    "    num_examples = len(augmented_image)\n",
    "    \n",
    "    print(\"Training...\")\n",
    "    \n",
    "    for i in range(EPOCHS):\n",
    "        shuffled_X_train, shuffled_y_train = shuffle(gray_X_train, augmented_label)\n",
    "        for offset in range(0, num_examples, BATCH_SIZE):\n",
    "            end = offset + BATCH_SIZE\n",
    "            batch_x, batch_y = shuffled_X_train[offset:end], shuffled_y_train[offset:end]\n",
    "            sess.run(training_operation, feed_dict={x: batch_x, y: batch_y})\n",
    "            \n",
    "        validation_accuracy = evaluate(gray_X_valid, y_valid)\n",
    "        \n",
    "        print(\"EPOCH {} ...\".format(i+1))\n",
    "        print(\"Validation Accuracy = {:.3f}\".format(validation_accuracy))\n",
    "       \n",
    "        \n",
    "\n",
    "### Calculate and report the accuracy on the training and validation set.\n",
    "### Once a final model architecture is selected, \n",
    "### the accuracy on the test set should be calculated and reported as well.\n",
    "### Feel free to use as many code cells as needed."
   ]
  },
  {
   "cell_type": "markdown",
   "metadata": {},
   "source": [
    "---\n",
    "\n",
    "## Step 3: Test a Model on New Images\n",
    "\n",
    "To give yourself more insight into how your model is working, download at least five pictures of German traffic signs from the web and use your model to predict the traffic sign type.\n",
    "\n",
    "You may find `signnames.csv` useful as it contains mappings from the class id (integer) to the actual sign name."
   ]
  },
  {
   "cell_type": "markdown",
   "metadata": {},
   "source": [
    "### Load and Output the Images"
   ]
  },
  {
   "cell_type": "code",
   "execution_count": null,
   "metadata": {
    "collapsed": true
   },
   "outputs": [],
   "source": [
    "### Load the images and plot them here.\n",
    "### Feel free to use as many code cells as needed."
   ]
  },
  {
   "cell_type": "markdown",
   "metadata": {},
   "source": [
    "### Predict the Sign Type for Each Image"
   ]
  },
  {
   "cell_type": "code",
   "execution_count": null,
   "metadata": {
    "collapsed": true
   },
   "outputs": [],
   "source": [
    "### Run the predictions here and use the model to output the prediction for each image.\n",
    "### Make sure to pre-process the images with the same pre-processing pipeline used earlier.\n",
    "### Feel free to use as many code cells as needed."
   ]
  },
  {
   "cell_type": "markdown",
   "metadata": {},
   "source": [
    "### Analyze Performance"
   ]
  },
  {
   "cell_type": "code",
   "execution_count": null,
   "metadata": {
    "collapsed": true
   },
   "outputs": [],
   "source": [
    "### Calculate the accuracy for these 5 new images. \n",
    "### For example, if the model predicted 1 out of 5 signs correctly, it's 20% accurate on these new images."
   ]
  },
  {
   "cell_type": "markdown",
   "metadata": {},
   "source": [
    "### Output Top 5 Softmax Probabilities For Each Image Found on the Web"
   ]
  },
  {
   "cell_type": "markdown",
   "metadata": {},
   "source": [
    "For each of the new images, print out the model's softmax probabilities to show the **certainty** of the model's predictions (limit the output to the top 5 probabilities for each image). [`tf.nn.top_k`](https://www.tensorflow.org/versions/r0.12/api_docs/python/nn.html#top_k) could prove helpful here. \n",
    "\n",
    "The example below demonstrates how tf.nn.top_k can be used to find the top k predictions for each image.\n",
    "\n",
    "`tf.nn.top_k` will return the values and indices (class ids) of the top k predictions. So if k=3, for each sign, it'll return the 3 largest probabilities (out of a possible 43) and the correspoding class ids.\n",
    "\n",
    "Take this numpy array as an example. The values in the array represent predictions. The array contains softmax probabilities for five candidate images with six possible classes. `tk.nn.top_k` is used to choose the three classes with the highest probability:\n",
    "\n",
    "```\n",
    "# (5, 6) array\n",
    "a = np.array([[ 0.24879643,  0.07032244,  0.12641572,  0.34763842,  0.07893497,\n",
    "         0.12789202],\n",
    "       [ 0.28086119,  0.27569815,  0.08594638,  0.0178669 ,  0.18063401,\n",
    "         0.15899337],\n",
    "       [ 0.26076848,  0.23664738,  0.08020603,  0.07001922,  0.1134371 ,\n",
    "         0.23892179],\n",
    "       [ 0.11943333,  0.29198961,  0.02605103,  0.26234032,  0.1351348 ,\n",
    "         0.16505091],\n",
    "       [ 0.09561176,  0.34396535,  0.0643941 ,  0.16240774,  0.24206137,\n",
    "         0.09155967]])\n",
    "```\n",
    "\n",
    "Running it through `sess.run(tf.nn.top_k(tf.constant(a), k=3))` produces:\n",
    "\n",
    "```\n",
    "TopKV2(values=array([[ 0.34763842,  0.24879643,  0.12789202],\n",
    "       [ 0.28086119,  0.27569815,  0.18063401],\n",
    "       [ 0.26076848,  0.23892179,  0.23664738],\n",
    "       [ 0.29198961,  0.26234032,  0.16505091],\n",
    "       [ 0.34396535,  0.24206137,  0.16240774]]), indices=array([[3, 0, 5],\n",
    "       [0, 1, 4],\n",
    "       [0, 5, 1],\n",
    "       [1, 3, 5],\n",
    "       [1, 4, 3]], dtype=int32))\n",
    "```\n",
    "\n",
    "Looking just at the first row we get `[ 0.34763842,  0.24879643,  0.12789202]`, you can confirm these are the 3 largest probabilities in `a`. You'll also notice `[3, 0, 5]` are the corresponding indices."
   ]
  },
  {
   "cell_type": "code",
   "execution_count": null,
   "metadata": {
    "collapsed": true
   },
   "outputs": [],
   "source": [
    "### Print out the top five softmax probabilities for the predictions on the German traffic sign images found on the web. \n",
    "### Feel free to use as many code cells as needed."
   ]
  },
  {
   "cell_type": "markdown",
   "metadata": {},
   "source": [
    "> **Note**: Once you have completed all of the code implementations, you need to finalize your work by exporting the IPython Notebook as an HTML document. Before exporting the notebook to html, all of the code cells need to have been run. You can then export the notebook by using the menu above and navigating to  \\n\",\n",
    "    \"**File -> Download as -> HTML (.html)**. Include the finished document along with this notebook as your submission. "
   ]
  },
  {
   "cell_type": "markdown",
   "metadata": {},
   "source": [
    "### Project Writeup\n",
    "\n",
    "Once you have completed the code implementation, document your results in a project writeup using this [template](https://github.com/udacity/CarND-Traffic-Sign-Classifier-Project/blob/master/writeup_template.md) as a guide. The writeup can be in a markdown or pdf file. "
   ]
  }
 ],
 "metadata": {
  "anaconda-cloud": {},
  "kernelspec": {
   "display_name": "Python 3",
   "language": "python",
   "name": "python3"
  },
  "language_info": {
   "codemirror_mode": {
    "name": "ipython",
    "version": 3
   },
   "file_extension": ".py",
   "mimetype": "text/x-python",
   "name": "python",
   "nbconvert_exporter": "python",
   "pygments_lexer": "ipython3",
   "version": "3.5.2"
  },
  "widgets": {
   "state": {},
   "version": "1.1.2"
  }
 },
 "nbformat": 4,
 "nbformat_minor": 1
}
